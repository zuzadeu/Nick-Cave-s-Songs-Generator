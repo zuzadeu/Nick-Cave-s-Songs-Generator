{
  "nbformat": 4,
  "nbformat_minor": 0,
  "metadata": {
    "colab": {
      "name": "Nick Cave's Songs Generator.ipynb",
      "provenance": [],
      "collapsed_sections": []
    },
    "kernelspec": {
      "name": "python3",
      "display_name": "Python 3"
    },
    "widgets": {
      "application/vnd.jupyter.widget-state+json": {
        "27274509aaff42d8b68cc39682ec004d": {
          "model_module": "@jupyter-widgets/controls",
          "model_name": "HBoxModel",
          "state": {
            "_view_name": "HBoxView",
            "_dom_classes": [],
            "_model_name": "HBoxModel",
            "_view_module": "@jupyter-widgets/controls",
            "_model_module_version": "1.5.0",
            "_view_count": null,
            "_view_module_version": "1.5.0",
            "box_style": "",
            "layout": "IPY_MODEL_9a70361c53b84e399a0856f9c9388131",
            "_model_module": "@jupyter-widgets/controls",
            "children": [
              "IPY_MODEL_9ce6889f8be64992a3d78602546f133b",
              "IPY_MODEL_385fa2f515534d19a49e80e9c4fc16d6"
            ]
          }
        },
        "9a70361c53b84e399a0856f9c9388131": {
          "model_module": "@jupyter-widgets/base",
          "model_name": "LayoutModel",
          "state": {
            "_view_name": "LayoutView",
            "grid_template_rows": null,
            "right": null,
            "justify_content": null,
            "_view_module": "@jupyter-widgets/base",
            "overflow": null,
            "_model_module_version": "1.2.0",
            "_view_count": null,
            "flex_flow": null,
            "width": null,
            "min_width": null,
            "border": null,
            "align_items": null,
            "bottom": null,
            "_model_module": "@jupyter-widgets/base",
            "top": null,
            "grid_column": null,
            "overflow_y": null,
            "overflow_x": null,
            "grid_auto_flow": null,
            "grid_area": null,
            "grid_template_columns": null,
            "flex": null,
            "_model_name": "LayoutModel",
            "justify_items": null,
            "grid_row": null,
            "max_height": null,
            "align_content": null,
            "visibility": null,
            "align_self": null,
            "height": null,
            "min_height": null,
            "padding": null,
            "grid_auto_rows": null,
            "grid_gap": null,
            "max_width": null,
            "order": null,
            "_view_module_version": "1.2.0",
            "grid_template_areas": null,
            "object_position": null,
            "object_fit": null,
            "grid_auto_columns": null,
            "margin": null,
            "display": null,
            "left": null
          }
        },
        "9ce6889f8be64992a3d78602546f133b": {
          "model_module": "@jupyter-widgets/controls",
          "model_name": "FloatProgressModel",
          "state": {
            "_view_name": "ProgressView",
            "style": "IPY_MODEL_5d799c22a773457780cc776db5570085",
            "_dom_classes": [],
            "description": "100%",
            "_model_name": "FloatProgressModel",
            "bar_style": "success",
            "max": 10,
            "_view_module": "@jupyter-widgets/controls",
            "_model_module_version": "1.5.0",
            "value": 10,
            "_view_count": null,
            "_view_module_version": "1.5.0",
            "orientation": "horizontal",
            "min": 0,
            "description_tooltip": null,
            "_model_module": "@jupyter-widgets/controls",
            "layout": "IPY_MODEL_3a1b9204da0c404ba0c036b5e1cb1e54"
          }
        },
        "385fa2f515534d19a49e80e9c4fc16d6": {
          "model_module": "@jupyter-widgets/controls",
          "model_name": "HTMLModel",
          "state": {
            "_view_name": "HTMLView",
            "style": "IPY_MODEL_3859f4c72aec440caf70c2952698b853",
            "_dom_classes": [],
            "description": "",
            "_model_name": "HTMLModel",
            "placeholder": "​",
            "_view_module": "@jupyter-widgets/controls",
            "_model_module_version": "1.5.0",
            "value": " 10/10 [00:02&lt;00:00,  4.24it/s]",
            "_view_count": null,
            "_view_module_version": "1.5.0",
            "description_tooltip": null,
            "_model_module": "@jupyter-widgets/controls",
            "layout": "IPY_MODEL_136a88af44664a7c98cab26ceb8d6b27"
          }
        },
        "5d799c22a773457780cc776db5570085": {
          "model_module": "@jupyter-widgets/controls",
          "model_name": "ProgressStyleModel",
          "state": {
            "_view_name": "StyleView",
            "_model_name": "ProgressStyleModel",
            "description_width": "initial",
            "_view_module": "@jupyter-widgets/base",
            "_model_module_version": "1.5.0",
            "_view_count": null,
            "_view_module_version": "1.2.0",
            "bar_color": null,
            "_model_module": "@jupyter-widgets/controls"
          }
        },
        "3a1b9204da0c404ba0c036b5e1cb1e54": {
          "model_module": "@jupyter-widgets/base",
          "model_name": "LayoutModel",
          "state": {
            "_view_name": "LayoutView",
            "grid_template_rows": null,
            "right": null,
            "justify_content": null,
            "_view_module": "@jupyter-widgets/base",
            "overflow": null,
            "_model_module_version": "1.2.0",
            "_view_count": null,
            "flex_flow": null,
            "width": null,
            "min_width": null,
            "border": null,
            "align_items": null,
            "bottom": null,
            "_model_module": "@jupyter-widgets/base",
            "top": null,
            "grid_column": null,
            "overflow_y": null,
            "overflow_x": null,
            "grid_auto_flow": null,
            "grid_area": null,
            "grid_template_columns": null,
            "flex": null,
            "_model_name": "LayoutModel",
            "justify_items": null,
            "grid_row": null,
            "max_height": null,
            "align_content": null,
            "visibility": null,
            "align_self": null,
            "height": null,
            "min_height": null,
            "padding": null,
            "grid_auto_rows": null,
            "grid_gap": null,
            "max_width": null,
            "order": null,
            "_view_module_version": "1.2.0",
            "grid_template_areas": null,
            "object_position": null,
            "object_fit": null,
            "grid_auto_columns": null,
            "margin": null,
            "display": null,
            "left": null
          }
        },
        "3859f4c72aec440caf70c2952698b853": {
          "model_module": "@jupyter-widgets/controls",
          "model_name": "DescriptionStyleModel",
          "state": {
            "_view_name": "StyleView",
            "_model_name": "DescriptionStyleModel",
            "description_width": "",
            "_view_module": "@jupyter-widgets/base",
            "_model_module_version": "1.5.0",
            "_view_count": null,
            "_view_module_version": "1.2.0",
            "_model_module": "@jupyter-widgets/controls"
          }
        },
        "136a88af44664a7c98cab26ceb8d6b27": {
          "model_module": "@jupyter-widgets/base",
          "model_name": "LayoutModel",
          "state": {
            "_view_name": "LayoutView",
            "grid_template_rows": null,
            "right": null,
            "justify_content": null,
            "_view_module": "@jupyter-widgets/base",
            "overflow": null,
            "_model_module_version": "1.2.0",
            "_view_count": null,
            "flex_flow": null,
            "width": null,
            "min_width": null,
            "border": null,
            "align_items": null,
            "bottom": null,
            "_model_module": "@jupyter-widgets/base",
            "top": null,
            "grid_column": null,
            "overflow_y": null,
            "overflow_x": null,
            "grid_auto_flow": null,
            "grid_area": null,
            "grid_template_columns": null,
            "flex": null,
            "_model_name": "LayoutModel",
            "justify_items": null,
            "grid_row": null,
            "max_height": null,
            "align_content": null,
            "visibility": null,
            "align_self": null,
            "height": null,
            "min_height": null,
            "padding": null,
            "grid_auto_rows": null,
            "grid_gap": null,
            "max_width": null,
            "order": null,
            "_view_module_version": "1.2.0",
            "grid_template_areas": null,
            "object_position": null,
            "object_fit": null,
            "grid_auto_columns": null,
            "margin": null,
            "display": null,
            "left": null
          }
        }
      }
    }
  },
  "cells": [
    {
      "cell_type": "code",
      "metadata": {
        "id": "2D-5U_U4ywA5",
        "colab_type": "code",
        "colab": {
          "base_uri": "https://localhost:8080/",
          "height": 780
        },
        "outputId": "76e7af56-7720-41f7-ccf3-5615b0e6a8cc"
      },
      "source": [
        "!pip3 install aitextgen"
      ],
      "execution_count": 33,
      "outputs": [
        {
          "output_type": "stream",
          "text": [
            "Requirement already satisfied: aitextgen in /usr/local/lib/python3.6/dist-packages (0.1.1)\n",
            "Requirement already satisfied: fire>=0.3.0 in /usr/local/lib/python3.6/dist-packages (from aitextgen) (0.3.1)\n",
            "Requirement already satisfied: transformers>=2.9.1 in /usr/local/lib/python3.6/dist-packages (from aitextgen) (2.9.1)\n",
            "Requirement already satisfied: pytorch-lightning>=0.7.6 in /usr/local/lib/python3.6/dist-packages (from aitextgen) (0.7.6)\n",
            "Requirement already satisfied: msgpack in /usr/local/lib/python3.6/dist-packages (from aitextgen) (1.0.0)\n",
            "Requirement already satisfied: six in /usr/local/lib/python3.6/dist-packages (from fire>=0.3.0->aitextgen) (1.12.0)\n",
            "Requirement already satisfied: termcolor in /usr/local/lib/python3.6/dist-packages (from fire>=0.3.0->aitextgen) (1.1.0)\n",
            "Requirement already satisfied: sacremoses in /usr/local/lib/python3.6/dist-packages (from transformers>=2.9.1->aitextgen) (0.0.43)\n",
            "Requirement already satisfied: dataclasses; python_version < \"3.7\" in /usr/local/lib/python3.6/dist-packages (from transformers>=2.9.1->aitextgen) (0.7)\n",
            "Requirement already satisfied: tqdm>=4.27 in /usr/local/lib/python3.6/dist-packages (from transformers>=2.9.1->aitextgen) (4.41.1)\n",
            "Requirement already satisfied: regex!=2019.12.17 in /usr/local/lib/python3.6/dist-packages (from transformers>=2.9.1->aitextgen) (2019.12.20)\n",
            "Requirement already satisfied: requests in /usr/local/lib/python3.6/dist-packages (from transformers>=2.9.1->aitextgen) (2.23.0)\n",
            "Requirement already satisfied: tokenizers==0.7.0 in /usr/local/lib/python3.6/dist-packages (from transformers>=2.9.1->aitextgen) (0.7.0)\n",
            "Requirement already satisfied: sentencepiece in /usr/local/lib/python3.6/dist-packages (from transformers>=2.9.1->aitextgen) (0.1.90)\n",
            "Requirement already satisfied: filelock in /usr/local/lib/python3.6/dist-packages (from transformers>=2.9.1->aitextgen) (3.0.12)\n",
            "Requirement already satisfied: numpy in /usr/local/lib/python3.6/dist-packages (from transformers>=2.9.1->aitextgen) (1.18.4)\n",
            "Requirement already satisfied: pyyaml>=3.13 in /usr/local/lib/python3.6/dist-packages (from pytorch-lightning>=0.7.6->aitextgen) (3.13)\n",
            "Requirement already satisfied: torch>=1.1 in /usr/local/lib/python3.6/dist-packages (from pytorch-lightning>=0.7.6->aitextgen) (1.5.0+cu101)\n",
            "Requirement already satisfied: tensorboard>=1.14 in /usr/local/lib/python3.6/dist-packages (from pytorch-lightning>=0.7.6->aitextgen) (2.2.1)\n",
            "Requirement already satisfied: future>=0.17.1 in /usr/local/lib/python3.6/dist-packages (from pytorch-lightning>=0.7.6->aitextgen) (0.18.2)\n",
            "Requirement already satisfied: joblib in /usr/local/lib/python3.6/dist-packages (from sacremoses->transformers>=2.9.1->aitextgen) (0.15.0)\n",
            "Requirement already satisfied: click in /usr/local/lib/python3.6/dist-packages (from sacremoses->transformers>=2.9.1->aitextgen) (7.1.2)\n",
            "Requirement already satisfied: certifi>=2017.4.17 in /usr/local/lib/python3.6/dist-packages (from requests->transformers>=2.9.1->aitextgen) (2020.4.5.1)\n",
            "Requirement already satisfied: idna<3,>=2.5 in /usr/local/lib/python3.6/dist-packages (from requests->transformers>=2.9.1->aitextgen) (2.9)\n",
            "Requirement already satisfied: urllib3!=1.25.0,!=1.25.1,<1.26,>=1.21.1 in /usr/local/lib/python3.6/dist-packages (from requests->transformers>=2.9.1->aitextgen) (1.24.3)\n",
            "Requirement already satisfied: chardet<4,>=3.0.2 in /usr/local/lib/python3.6/dist-packages (from requests->transformers>=2.9.1->aitextgen) (3.0.4)\n",
            "Requirement already satisfied: google-auth-oauthlib<0.5,>=0.4.1 in /usr/local/lib/python3.6/dist-packages (from tensorboard>=1.14->pytorch-lightning>=0.7.6->aitextgen) (0.4.1)\n",
            "Requirement already satisfied: google-auth<2,>=1.6.3 in /usr/local/lib/python3.6/dist-packages (from tensorboard>=1.14->pytorch-lightning>=0.7.6->aitextgen) (1.7.2)\n",
            "Requirement already satisfied: werkzeug>=0.11.15 in /usr/local/lib/python3.6/dist-packages (from tensorboard>=1.14->pytorch-lightning>=0.7.6->aitextgen) (1.0.1)\n",
            "Requirement already satisfied: tensorboard-plugin-wit>=1.6.0 in /usr/local/lib/python3.6/dist-packages (from tensorboard>=1.14->pytorch-lightning>=0.7.6->aitextgen) (1.6.0.post3)\n",
            "Requirement already satisfied: grpcio>=1.24.3 in /usr/local/lib/python3.6/dist-packages (from tensorboard>=1.14->pytorch-lightning>=0.7.6->aitextgen) (1.29.0)\n",
            "Requirement already satisfied: absl-py>=0.4 in /usr/local/lib/python3.6/dist-packages (from tensorboard>=1.14->pytorch-lightning>=0.7.6->aitextgen) (0.9.0)\n",
            "Requirement already satisfied: wheel>=0.26; python_version >= \"3\" in /usr/local/lib/python3.6/dist-packages (from tensorboard>=1.14->pytorch-lightning>=0.7.6->aitextgen) (0.34.2)\n",
            "Requirement already satisfied: protobuf>=3.6.0 in /usr/local/lib/python3.6/dist-packages (from tensorboard>=1.14->pytorch-lightning>=0.7.6->aitextgen) (3.10.0)\n",
            "Requirement already satisfied: markdown>=2.6.8 in /usr/local/lib/python3.6/dist-packages (from tensorboard>=1.14->pytorch-lightning>=0.7.6->aitextgen) (3.2.2)\n",
            "Requirement already satisfied: setuptools>=41.0.0 in /usr/local/lib/python3.6/dist-packages (from tensorboard>=1.14->pytorch-lightning>=0.7.6->aitextgen) (46.3.0)\n",
            "Requirement already satisfied: requests-oauthlib>=0.7.0 in /usr/local/lib/python3.6/dist-packages (from google-auth-oauthlib<0.5,>=0.4.1->tensorboard>=1.14->pytorch-lightning>=0.7.6->aitextgen) (1.3.0)\n",
            "Requirement already satisfied: pyasn1-modules>=0.2.1 in /usr/local/lib/python3.6/dist-packages (from google-auth<2,>=1.6.3->tensorboard>=1.14->pytorch-lightning>=0.7.6->aitextgen) (0.2.8)\n",
            "Requirement already satisfied: rsa<4.1,>=3.1.4 in /usr/local/lib/python3.6/dist-packages (from google-auth<2,>=1.6.3->tensorboard>=1.14->pytorch-lightning>=0.7.6->aitextgen) (4.0)\n",
            "Requirement already satisfied: cachetools<3.2,>=2.0.0 in /usr/local/lib/python3.6/dist-packages (from google-auth<2,>=1.6.3->tensorboard>=1.14->pytorch-lightning>=0.7.6->aitextgen) (3.1.1)\n",
            "Requirement already satisfied: importlib-metadata; python_version < \"3.8\" in /usr/local/lib/python3.6/dist-packages (from markdown>=2.6.8->tensorboard>=1.14->pytorch-lightning>=0.7.6->aitextgen) (1.6.0)\n",
            "Requirement already satisfied: oauthlib>=3.0.0 in /usr/local/lib/python3.6/dist-packages (from requests-oauthlib>=0.7.0->google-auth-oauthlib<0.5,>=0.4.1->tensorboard>=1.14->pytorch-lightning>=0.7.6->aitextgen) (3.1.0)\n",
            "Requirement already satisfied: pyasn1<0.5.0,>=0.4.6 in /usr/local/lib/python3.6/dist-packages (from pyasn1-modules>=0.2.1->google-auth<2,>=1.6.3->tensorboard>=1.14->pytorch-lightning>=0.7.6->aitextgen) (0.4.8)\n",
            "Requirement already satisfied: zipp>=0.5 in /usr/local/lib/python3.6/dist-packages (from importlib-metadata; python_version < \"3.8\"->markdown>=2.6.8->tensorboard>=1.14->pytorch-lightning>=0.7.6->aitextgen) (3.1.0)\n"
          ],
          "name": "stdout"
        }
      ]
    },
    {
      "cell_type": "code",
      "metadata": {
        "id": "dYX1fLgxOtB-",
        "colab_type": "code",
        "colab": {}
      },
      "source": [
        "from requests import get\n",
        "from bs4 import BeautifulSoup\n",
        "import re\n",
        "from aitextgen.TokenDataset import TokenDataset\n",
        "from aitextgen.tokenizers import train_tokenizer\n",
        "from aitextgen.utils import GPT2ConfigCPU\n",
        "from aitextgen import aitextgen"
      ],
      "execution_count": 0,
      "outputs": []
    },
    {
      "cell_type": "code",
      "metadata": {
        "id": "HfZ0QiiG00m2",
        "colab_type": "code",
        "colab": {}
      },
      "source": [
        "def parse_lyrics(song_link):\n",
        "  response = get(song_link)\n",
        "  html_soup = BeautifulSoup(response.text, 'html.parser')\n",
        "  lyrics_containers = html_soup.find_all('div', class_ = 'lyrics')\n",
        "  lyrics = html_soup.find_all('p')\n",
        "  song = []\n",
        "  for paragraph in lyrics:\n",
        "    paragraph = str(paragraph).replace(\"<br/>\", \"\\s\").replace(\"</p>\", \"\").replace(\"<p>\", \"\").replace(\"!\", \",\")\n",
        "    song.append(paragraph)\n",
        "    #song.append(paragraph.get_text())\n",
        "  del song[-2:]\n",
        "  song = '\\n'.join(song)\n",
        "  return song"
      ],
      "execution_count": 0,
      "outputs": []
    },
    {
      "cell_type": "code",
      "metadata": {
        "id": "ed00IAq601l9",
        "colab_type": "code",
        "colab": {
          "base_uri": "https://localhost:8080/",
          "height": 34
        },
        "outputId": "e422a2d0-5aa1-4f48-c3ac-83ab599e71dc"
      },
      "source": [
        "url = 'https://www.nickcave.com/lyrics/'\n",
        "response = get(url)\n",
        "\n",
        "html_soup = BeautifulSoup(response.text, 'html.parser')\n",
        "albums = html_soup.find_all('div', class_ = 'lyric-album-list')\n",
        "print(f'Noumber of available albums: {len(albums)}')"
      ],
      "execution_count": 35,
      "outputs": [
        {
          "output_type": "stream",
          "text": [
            "Noumber of available albums: 20\n"
          ],
          "name": "stdout"
        }
      ]
    },
    {
      "cell_type": "code",
      "metadata": {
        "id": "PTcJLZFb06Bz",
        "colab_type": "code",
        "colab": {
          "base_uri": "https://localhost:8080/",
          "height": 34
        },
        "outputId": "c8b8c725-3202-492c-de52-39ee40bbd62a"
      },
      "source": [
        "file  = open(\"songs.txt\", \"w\") \n",
        "\n",
        "no_songs = 0\n",
        "\n",
        "for album in albums:\n",
        "  songs = album.find_all('a')\n",
        "  for song in songs:\n",
        "    song_link = song.get('href')\n",
        "    file.write(parse_lyrics(song_link)+'\\s')\n",
        "    no_songs += 1\n",
        "\n",
        "print(f\"No. of songs: {no_songs}\")"
      ],
      "execution_count": 36,
      "outputs": [
        {
          "output_type": "stream",
          "text": [
            "No. of songs: 201\n"
          ],
          "name": "stdout"
        }
      ]
    },
    {
      "cell_type": "code",
      "metadata": {
        "id": "trtcMGnZzJbb",
        "colab_type": "code",
        "colab": {
          "base_uri": "https://localhost:8080/",
          "height": 69
        },
        "outputId": "8320133f-1f9f-4344-96ba-d00387ec1ac1"
      },
      "source": [
        "# The name of the downloaded Shakespeare text for training\n",
        "file_name = \"songs.txt\"\n",
        "\n",
        "# Train a custom BPE Tokenizer on the downloaded text\n",
        "# This will save two files: aitextgen-vocab.json and aitextgen-merges.txt,\n",
        "# which are needed to rebuild the tokenizer.\n",
        "train_tokenizer(file_name)\n",
        "vocab_file = \"aitextgen-vocab.json\"\n",
        "merges_file = \"aitextgen-merges.txt\"\n",
        "\n",
        "# GPT2ConfigCPU is a mini variant of GPT-2 optimized for CPU-training\n",
        "# e.g. the # of input tokens here is 64 vs. 1024 for base GPT-2.\n",
        "config = GPT2ConfigCPU()\n",
        "\n",
        "# Instantiate aitextgen using the created tokenizer and config\n",
        "ai = aitextgen(vocab_file=vocab_file, merges_file=merges_file, config=config)"
      ],
      "execution_count": 37,
      "outputs": [
        {
          "output_type": "stream",
          "text": [
            "INFO:aitextgen.tokenizers:Saving aitextgen-vocab.json and aitextgen-merges.txt to the current directory. You will need both files to build the GPT2Tokenizer.\n",
            "INFO:aitextgen:Constructing GPT-2 model from provided config.\n",
            "INFO:aitextgen:Using a custom tokenizer.\n"
          ],
          "name": "stderr"
        }
      ]
    },
    {
      "cell_type": "code",
      "metadata": {
        "id": "q2BE1J4EHpoE",
        "colab_type": "code",
        "colab": {
          "base_uri": "https://localhost:8080/",
          "height": 84,
          "referenced_widgets": [
            "27274509aaff42d8b68cc39682ec004d",
            "9a70361c53b84e399a0856f9c9388131",
            "9ce6889f8be64992a3d78602546f133b",
            "385fa2f515534d19a49e80e9c4fc16d6",
            "5d799c22a773457780cc776db5570085",
            "3a1b9204da0c404ba0c036b5e1cb1e54",
            "3859f4c72aec440caf70c2952698b853",
            "136a88af44664a7c98cab26ceb8d6b27"
          ]
        },
        "outputId": "6e61dfc2-a354-4dec-890d-bfa510d529c0"
      },
      "source": [
        "ai.generate_to_file(n=10, prompt=\"We drowned\", max_length=100, temperature=1.2)"
      ],
      "execution_count": 38,
      "outputs": [
        {
          "output_type": "stream",
          "text": [
            "INFO:aitextgen:Generating 10 texts to ATG_20200520_173825_29429595.txt\n"
          ],
          "name": "stderr"
        },
        {
          "output_type": "display_data",
          "data": {
            "application/vnd.jupyter.widget-view+json": {
              "model_id": "27274509aaff42d8b68cc39682ec004d",
              "version_minor": 0,
              "version_major": 2
            },
            "text/plain": [
              "HBox(children=(FloatProgress(value=0.0, max=10.0), HTML(value='')))"
            ]
          },
          "metadata": {
            "tags": []
          }
        },
        {
          "output_type": "stream",
          "text": [
            "\n"
          ],
          "name": "stdout"
        }
      ]
    },
    {
      "cell_type": "code",
      "metadata": {
        "id": "tJzwjUeFIFCI",
        "colab_type": "code",
        "colab": {
          "base_uri": "https://localhost:8080/",
          "height": 1000
        },
        "outputId": "8588e77a-7a02-4d8b-f72d-9aef690b9874"
      },
      "source": [
        "lines = open('ATG_20200520_173011_91614378.txt').readlines()\n",
        "for line in lines:\n",
        "  print(line.replace(\"\\s \", \"\\n\"))"
      ],
      "execution_count": 39,
      "outputs": [
        {
          "output_type": "stream",
          "text": [
            "We drowned me like a words that did not see\n",
            "We sucked her and she said\n",
            "I was blind and we did not we breathe\n",
            "We have so very life\n",
            "I ain’t care out where\n",
            "\n",
            "I know the sky it has going on the end\n",
            "But she said,\n",
            "\n",
            "====================\n",
            "\n",
            "We drowned me with a man\n",
            "With my hair did raised me?\n",
            "As I get her hair on my fingersage\n",
            "Is for my heart that in my love it is beside me\n",
            "Oh baby\n",
            "You have no I would be in this my love\n",
            "You come at me\\\n",
            "\n",
            "====================\n",
            "\n",
            "We drowned the night, every time\n",
            "With this hair is blindolm falling on that girl\n",
            "If I do we could me goodbye\n",
            "They kissed me out and there for me from the trees with children\n",
            "Well you don’t know don’t you can feel about\n",
            "\n",
            "In a\n",
            "\n",
            "====================\n",
            "\n",
            "We drowned your voice\n",
            "It saw this road is no need to find them low\n",
            "Yeah, come down to their sea\n",
            "\n",
            "“I am, I can’t want to be my mother\n",
            "Down on the road\n",
            "O Mamma La lie at the bathtub\n",
            "That man is a long\n",
            "\n",
            "====================\n",
            "\n",
            "We drowned his bed\n",
            "Where was it was the gates of town\n",
            "There is true\n",
            "You keep me again\n",
            "I die from me\n",
            "That I am captured\n",
            "Yeah, I was on\n",
            "But my gun\n",
            "You will do you’ve got a little girl\\\n",
            "\n",
            "====================\n",
            "\n",
            "We drowned from the stars\n",
            "\n",
            "Cause where have to a child you see what it’s children\n",
            "\n",
            "Now, she did. And is exactly what she’s wife did the ended and she came a girl. When she would be my shoes\n",
            "With a little thing I am by me low,)\\s\n",
            "\n",
            "====================\n",
            "\n",
            "We drowned up his feet\n",
            "His face is my feet of love is hiding the street\n",
            "\n",
            "Yeah, your lovely creature\n",
            "Yes, my oh my own\n",
            "And I had been been no more\n",
            "\n",
            "You are just where we know this there too long out of love come back\n",
            "You come around\n",
            "\n",
            "====================\n",
            "\n",
            "We drowned a big garden\n",
            "With a heathen child-jice,\n",
            "Where is all the trees will lay down the morning\n",
            "When I want to love\n",
            "\n",
            " \n",
            "\n",
            "Cause the world is not about us, Lord O Mamma\n",
            "\n",
            "Mrble end\n",
            "\n",
            "PA great little little train, she lives,\\\n",
            "\n",
            "====================\n",
            "\n",
            "We drowned and an goret and clounding from his mood\n",
            "I look around the edge\n",
            "For the morning and fall their lives away\n",
            "Said the stars are a house\n",
            "\n",
            "The rain not something they sucked her and by is. He says it\n",
            "He went about to the\n",
            "\n",
            "====================\n",
            "\n",
            "We drowned me a fort\n",
            "But if we ain’t need to the snow\n",
            "Who has been all gotta be her hand\n",
            "That I’ve been hard on their knees\n",
            "\n",
            "When I don’t no more\n",
            "And when it will go\n",
            "That man?\\sAnd a real\n",
            "\n",
            "====================\n",
            "\n"
          ],
          "name": "stdout"
        }
      ]
    }
  ]
}